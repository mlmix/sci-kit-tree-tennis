{
 "cells": [
  {
   "cell_type": "code",
   "execution_count": null,
   "metadata": {},
   "outputs": [],
   "source": []
  },
  {
   "cell_type": "code",
   "execution_count": null,
   "metadata": {},
   "outputs": [],
   "source": [
    "\n",
    "from sklearn.tree import DecisionTreeClassifier \n",
    "from sklearn.metrics import accuracy_score \n",
    "from sklearn import tree\n",
    "from sklearn.preprocessing import LabelEncoder\n",
    "\n",
    "import pandas as pd \n",
    "import numpy as np \n",
    "\n",
    "import graphviz \n",
    "import os\n",
    "os.environ[\"PATH\"] += os.pathsep + \"C:/Program Files (x86)/Graphviz2.38/bin\"\n",
    "os.environ[\"PATH\"] += os.pathsep + \"C:/Program Files (x86)/Graphviz2.38/bin/dot.exe\"\n",
    "\n",
    "\n",
    "df = pd.read_csv('tennis.csv') \n",
    "lb = LabelEncoder() \n",
    "df['outlook_'] = lb.fit_transform(df['outlook']) \n",
    "df['temp_'] = lb.fit_transform(df['temp'] ) \n",
    "df['humidity_'] = lb.fit_transform(df['humidity'] ) \n",
    "df['windy_'] = lb.fit_transform(df['windy'] )   \n",
    "df['play_'] = lb.fit_transform(df['play'] ) \n",
    "\n",
    "\n",
    "#print(df)\n",
    "\n",
    "X = df.iloc[:,5:9]  #we get 5:9 columns for input data because label encoder fit_transform appends new columns to current csv columns\n",
    "Y = df.iloc[:,9]    # you can check new table by uncommenting print(df)\n",
    "\n",
    "#print(X) #uncomment to check X\n",
    "#print(Y) #uncomment to check Y\n",
    "\n",
    "clf_entropy = DecisionTreeClassifier(criterion='entropy')\n",
    "clf_entropy.fit(X,Y) \n",
    "y_pred_en = clf_entropy.predict(X)\n",
    "\n",
    "#accuracy will be 100% because we test with train data, this part is just to be sure model is trained well\n",
    "print(\"Accuracy is :{0}\".format(accuracy_score(Y.astype(int),y_pred_en) * 100))\n",
    "\n",
    "\n",
    "## to test model\n",
    "\n",
    "X_test = np.array([2,1,1,0]).reshape(1, 4)\n",
    "Y_test = 0\n",
    "y_pred_en = clf_entropy.predict(X_test)\n",
    "print(\"Test Result : \\n\",y_pred_en)\n",
    "\n",
    "\n",
    "\n",
    "dot_data = tree.export_graphviz(clf_entropy, out_file=None) \n",
    "graph = graphviz.Source(dot_data) \n",
    "graph.render(\"tennis_results\") "
   ]
  }
 ],
 "metadata": {
  "kernelspec": {
   "display_name": "Python 3",
   "language": "python",
   "name": "python3"
  },
  "language_info": {
   "codemirror_mode": {
    "name": "ipython",
    "version": 3
   },
   "file_extension": ".py",
   "mimetype": "text/x-python",
   "name": "python",
   "nbconvert_exporter": "python",
   "pygments_lexer": "ipython3",
   "version": "3.6.1"
  }
 },
 "nbformat": 4,
 "nbformat_minor": 2
}
